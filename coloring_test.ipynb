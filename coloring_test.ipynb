{
 "cells": [
  {
   "cell_type": "code",
   "execution_count": 1,
   "id": "0ed376b5-11d2-4d47-9b36-4ca26ad341e2",
   "metadata": {},
   "outputs": [],
   "source": [
    "%load_ext jupyter_black\n",
    "%load_ext autoreload\n",
    "%autoreload 2"
   ]
  },
  {
   "cell_type": "code",
   "execution_count": 2,
   "id": "b7e574aa-ede6-4dc7-8d10-d7683098951d",
   "metadata": {},
   "outputs": [
    {
     "name": "stderr",
     "output_type": "stream",
     "text": [
      "\u001b[32m2025-02-05 17:35:07.008\u001b[0m | \u001b[1mINFO    \u001b[0m | \u001b[36m__main__\u001b[0m:\u001b[36m<module>\u001b[0m:\u001b[36m22\u001b[0m - \u001b[1mLoaded in 0:00:01.615525\u001b[0m\n",
      "\u001b[32m2025-02-05 17:35:07.010\u001b[0m | \u001b[1mINFO    \u001b[0m | \u001b[36m__main__\u001b[0m:\u001b[36m<module>\u001b[0m:\u001b[36m23\u001b[0m - \u001b[1mNumber of terms: 13548\u001b[0m\n"
     ]
    }
   ],
   "source": [
    "from datetime import datetime\n",
    "\n",
    "from loguru import logger as logging\n",
    "\n",
    "from pcb.hamlib import open_hamiltonian_file\n",
    "from pcb.qiskit import to_evolution_gate\n",
    "\n",
    "# maxcut Hamiltonian -> Ising\n",
    "# FILE = \"out/ham/binaryoptimization__maxcut__random__ham-graph-complete_bipart.hdf5.zip\"\n",
    "# KEY = \"complbipart-n-100_a-50_b-50\"\n",
    "\n",
    "# max3sat Hamiltonian -> 3SAT\n",
    "FILE = \"out/ham/binaryoptimization__max3sat__satlib__lran-ham.hdf5.zip\"\n",
    "KEY = \"0-f1000.cnf-900-res\"\n",
    "\n",
    "start = datetime.now()\n",
    "with open_hamiltonian_file(FILE) as fp:\n",
    "    # print(len(fp.keys()))\n",
    "    # for k in fp.keys():\n",
    "    #     print(k, len(to_evolution_gate(fp[k][()]).operator))\n",
    "    gate = to_evolution_gate(fp[KEY][()])\n",
    "logging.info(\"Loaded in {}\", datetime.now() - start)\n",
    "logging.info(\"Number of terms: {}\", len(gate.operator))"
   ]
  },
  {
   "cell_type": "raw",
   "id": "a40b520c-da47-4f36-a134-7bead7170e72",
   "metadata": {},
   "source": [
    "# Adding some unary terms for shits and giggles\n",
    "\n",
    "import random\n",
    "\n",
    "from qiskit.circuit import Parameter\n",
    "from qiskit.circuit.library import PauliEvolutionGate\n",
    "from qiskit.quantum_info import SparsePauliOp\n",
    "\n",
    "terms = gate.operator.to_sparse_list()\n",
    "terms += [(\"Z\", [i], 1.0) for i in range(gate.num_qubits // 2)]\n",
    "random.shuffle(terms)\n",
    "gate = PauliEvolutionGate(\n",
    "    SparsePauliOp.from_sparse_list(terms, gate.num_qubits), Parameter(\"δt\")\n",
    ")"
   ]
  },
  {
   "cell_type": "code",
   "execution_count": 3,
   "id": "8cdf2faf-8ebb-4fa0-a45c-29259c3ea489",
   "metadata": {},
   "outputs": [],
   "source": [
    "from itertools import combinations\n",
    "\n",
    "from qiskit.quantum_info import SparsePauliOp\n",
    "from tqdm.notebook import tqdm\n",
    "\n",
    "from pcb.reordering.utils import term_groups\n",
    "\n",
    "\n",
    "def check_coloring(coloring: dict[int, list[int]], operator: SparsePauliOp):\n",
    "    start = datetime.now()\n",
    "    terms = operator.to_list()\n",
    "    color: dict[int, int] = {}  # inversion of coloring\n",
    "    for c, v in coloring.items():\n",
    "        for i in v:\n",
    "            color[i] = c\n",
    "    for q, grp in tqdm(list(term_groups(operator).items())):\n",
    "        cs = set(color[i] for i in grp)\n",
    "        if len(cs) == len(grp):\n",
    "            continue\n",
    "        logging.error(\"Problem at group of qubit {}\", q)\n",
    "        for i1, i2 in combinations(grp, 2):\n",
    "            if color[i1] != color[i2]:\n",
    "                continue\n",
    "            col = color[i1]\n",
    "            s1, s2 = terms[i1][0][::-1], terms[i2][0][::-1]\n",
    "            for qubit, (p1, p2) in enumerate(zip(s1, s2)):\n",
    "                if not (p1 == \"I\" or p2 == \"I\"):\n",
    "                    s1_, s2_ = s1.replace(\"I\", \"_\"), s2.replace(\"I\", \"_\")\n",
    "                    a = \" \" + (\" \" * qubit) + \"↓\"\n",
    "                    raise RuntimeError(\n",
    "                        f\"{col=} {i1=} {i2=} {qubit=}\\n{a}\\n>{s1_}<\\n>{s2_}<\"\n",
    "                    )\n",
    "    logging.info(\"Checked coloring in {}\", datetime.now() - start)"
   ]
  },
  {
   "cell_type": "code",
   "execution_count": 4,
   "id": "6592ba55-f539-4bbb-954f-7d4c4bf10acb",
   "metadata": {},
   "outputs": [
    {
     "name": "stderr",
     "output_type": "stream",
     "text": [
      "\u001b[32m2025-02-05 17:35:12.656\u001b[0m | \u001b[1mINFO    \u001b[0m | \u001b[36m__main__\u001b[0m:\u001b[36m<module>\u001b[0m:\u001b[36m9\u001b[0m - \u001b[1mReordered operator in 0:00:05.294983\u001b[0m\n",
      "\u001b[32m2025-02-05 17:35:12.659\u001b[0m | \u001b[1mINFO    \u001b[0m | \u001b[36m__main__\u001b[0m:\u001b[36m<module>\u001b[0m:\u001b[36m10\u001b[0m - \u001b[1mUsed 67 colors\u001b[0m\n"
     ]
    },
    {
     "data": {
      "application/vnd.jupyter.widget-view+json": {
       "model_id": "c528c2e8037142e795c6b34ba797574a",
       "version_major": 2,
       "version_minor": 0
      },
      "text/plain": [
       "  0%|          | 0/900 [00:00<?, ?it/s]"
      ]
     },
     "metadata": {},
     "output_type": "display_data"
    },
    {
     "name": "stderr",
     "output_type": "stream",
     "text": [
      "\u001b[32m2025-02-05 17:35:14.189\u001b[0m | \u001b[1mINFO    \u001b[0m | \u001b[36m__main__\u001b[0m:\u001b[36mcheck_coloring\u001b[0m:\u001b[36m33\u001b[0m - \u001b[1mChecked coloring in 0:00:01.529023\u001b[0m\n"
     ]
    }
   ],
   "source": [
    "from datetime import datetime\n",
    "\n",
    "from loguru import logger as logging\n",
    "\n",
    "from pcb.reordering import degree_reordering\n",
    "\n",
    "start = datetime.now()\n",
    "gate_r, coloring = degree_reordering(gate)\n",
    "logging.info(\"Reordered operator in {}\", datetime.now() - start)\n",
    "logging.info(\"Used {} colors\", len(coloring))\n",
    "\n",
    "check_coloring(coloring, gate.operator)"
   ]
  },
  {
   "cell_type": "code",
   "execution_count": 5,
   "id": "c165e675-f527-4dd2-acf4-93afd7806656",
   "metadata": {},
   "outputs": [
    {
     "name": "stderr",
     "output_type": "stream",
     "text": [
      "\u001b[32m2025-02-05 17:35:36.258\u001b[0m | \u001b[1mINFO    \u001b[0m | \u001b[36m__main__\u001b[0m:\u001b[36m<module>\u001b[0m:\u001b[36m9\u001b[0m - \u001b[1mReordered operator in 0:00:22.006913\u001b[0m\n",
      "\u001b[32m2025-02-05 17:35:36.260\u001b[0m | \u001b[1mINFO    \u001b[0m | \u001b[36m__main__\u001b[0m:\u001b[36m<module>\u001b[0m:\u001b[36m10\u001b[0m - \u001b[1mUsed 66 colors\u001b[0m\n"
     ]
    },
    {
     "data": {
      "application/vnd.jupyter.widget-view+json": {
       "model_id": "dfed17cb1913464195d86d0aa6a87164",
       "version_major": 2,
       "version_minor": 0
      },
      "text/plain": [
       "  0%|          | 0/900 [00:00<?, ?it/s]"
      ]
     },
     "metadata": {},
     "output_type": "display_data"
    },
    {
     "name": "stderr",
     "output_type": "stream",
     "text": [
      "\u001b[32m2025-02-05 17:35:37.786\u001b[0m | \u001b[1mINFO    \u001b[0m | \u001b[36m__main__\u001b[0m:\u001b[36mcheck_coloring\u001b[0m:\u001b[36m33\u001b[0m - \u001b[1mChecked coloring in 0:00:01.524871\u001b[0m\n"
     ]
    }
   ],
   "source": [
    "from datetime import datetime\n",
    "\n",
    "from loguru import logger as logging\n",
    "\n",
    "from pcb.reordering import saturation_reordering\n",
    "\n",
    "start = datetime.now()\n",
    "gate_r, coloring = saturation_reordering(gate)\n",
    "logging.info(\"Reordered operator in {}\", datetime.now() - start)\n",
    "logging.info(\"Used {} colors\", len(coloring))\n",
    "\n",
    "check_coloring(coloring, gate.operator)"
   ]
  },
  {
   "cell_type": "code",
   "execution_count": 6,
   "id": "46ab3e5c-c001-4873-986e-456e1c9789b5",
   "metadata": {
    "scrolled": true
   },
   "outputs": [],
   "source": [
    "from datetime import datetime\n",
    "\n",
    "from loguru import logger as logging\n",
    "\n",
    "from pcb.reordering import misra_gries_reordering\n",
    "from pcb.reordering.utils import is_ising\n",
    "\n",
    "if is_ising(gate):\n",
    "    start = datetime.now()\n",
    "    gate_r, coloring = misra_gries_reordering(gate)\n",
    "    logging.info(\"Reordered operator in {}\", datetime.now() - start)\n",
    "    logging.info(\"Used {} colors\", len(coloring))\n",
    "\n",
    "    check_coloring(coloring, gate.operator)"
   ]
  },
  {
   "cell_type": "code",
   "execution_count": 7,
   "id": "cc4df8d9-9708-486f-98a1-1295a00fb51f",
   "metadata": {},
   "outputs": [
    {
     "name": "stderr",
     "output_type": "stream",
     "text": [
      "\u001b[32m2025-02-05 17:35:54.275\u001b[0m | \u001b[1mINFO    \u001b[0m | \u001b[36m__main__\u001b[0m:\u001b[36m<module>\u001b[0m:\u001b[36m11\u001b[0m - \u001b[1mReordered operator in 0:00:13.895527\u001b[0m\n",
      "\u001b[32m2025-02-05 17:35:54.278\u001b[0m | \u001b[1mINFO    \u001b[0m | \u001b[36m__main__\u001b[0m:\u001b[36m<module>\u001b[0m:\u001b[36m12\u001b[0m - \u001b[1mUsed 66 colors\u001b[0m\n"
     ]
    },
    {
     "data": {
      "application/vnd.jupyter.widget-view+json": {
       "model_id": "5b460550bf014a1a99cca033cc30c89e",
       "version_major": 2,
       "version_minor": 0
      },
      "text/plain": [
       "  0%|          | 0/900 [00:00<?, ?it/s]"
      ]
     },
     "metadata": {},
     "output_type": "display_data"
    },
    {
     "name": "stderr",
     "output_type": "stream",
     "text": [
      "\u001b[32m2025-02-05 17:35:55.965\u001b[0m | \u001b[1mINFO    \u001b[0m | \u001b[36m__main__\u001b[0m:\u001b[36mcheck_coloring\u001b[0m:\u001b[36m33\u001b[0m - \u001b[1mChecked coloring in 0:00:01.686573\u001b[0m\n"
     ]
    }
   ],
   "source": [
    "from datetime import datetime\n",
    "\n",
    "from loguru import logger as logging\n",
    "\n",
    "from pcb.reordering import simplicial_reordering\n",
    "from pcb.reordering.utils import is_3sat\n",
    "\n",
    "if is_3sat(gate):\n",
    "    start = datetime.now()\n",
    "    gate_r, coloring = simplicial_reordering(gate)\n",
    "    logging.info(\"Reordered operator in {}\", datetime.now() - start)\n",
    "    logging.info(\"Used {} colors\", len(coloring))\n",
    "\n",
    "    check_coloring(coloring, gate.operator)"
   ]
  },
  {
   "cell_type": "code",
   "execution_count": null,
   "id": "ba248593-ad5b-456c-926d-2cb6cb1f5b87",
   "metadata": {},
   "outputs": [],
   "source": []
  },
  {
   "cell_type": "code",
   "execution_count": null,
   "id": "4ba1f88a-efd2-42c1-bfbe-2e2b13dca200",
   "metadata": {},
   "outputs": [],
   "source": []
  },
  {
   "cell_type": "code",
   "execution_count": null,
   "id": "be82fb8a-718d-44ee-8b6e-a7d68fa7400f",
   "metadata": {},
   "outputs": [],
   "source": []
  },
  {
   "cell_type": "code",
   "execution_count": null,
   "id": "396d0567-f2b5-4bd7-a0b5-807121a3ceba",
   "metadata": {},
   "outputs": [],
   "source": []
  },
  {
   "cell_type": "code",
   "execution_count": null,
   "id": "e6f34ee7-0087-4436-baff-29f9683ae9ee",
   "metadata": {},
   "outputs": [],
   "source": []
  }
 ],
 "metadata": {
  "kernelspec": {
   "display_name": "pcb",
   "language": "python",
   "name": "pcb"
  },
  "language_info": {
   "codemirror_mode": {
    "name": "ipython",
    "version": 3
   },
   "file_extension": ".py",
   "mimetype": "text/x-python",
   "name": "python",
   "nbconvert_exporter": "python",
   "pygments_lexer": "ipython3",
   "version": "3.13.0"
  }
 },
 "nbformat": 4,
 "nbformat_minor": 5
}
